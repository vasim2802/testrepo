{
 "cells": [
  {
   "cell_type": "code",
   "execution_count": 21,
   "id": "6be04c4b-8eac-482c-be33-a9479e4f35e8",
   "metadata": {},
   "outputs": [],
   "source": [
    "x = \"Data Scientist\""
   ]
  },
  {
   "cell_type": "code",
   "execution_count": 22,
   "id": "be5b84e8-a709-429b-96d2-9b92e1234605",
   "metadata": {},
   "outputs": [
    {
     "name": "stdout",
     "output_type": "stream",
     "text": [
      "Data Scientist\n"
     ]
    }
   ],
   "source": [
    "print(x)"
   ]
  },
  {
   "cell_type": "code",
   "execution_count": 23,
   "id": "a6ad6e0d-3722-40f0-aaa3-b6f05df8d907",
   "metadata": {},
   "outputs": [],
   "source": [
    "y = \" I am interested in Data Science because I would love to contribute towards affordable and quality healthcare the future\""
   ]
  },
  {
   "cell_type": "code",
   "execution_count": 24,
   "id": "face17f5-d4a5-4a62-af34-2524e7ee5384",
   "metadata": {},
   "outputs": [
    {
     "name": "stdout",
     "output_type": "stream",
     "text": [
      " I am interested in Data Science because I would love to contribute towards affordable and quality healthcare the future\n"
     ]
    }
   ],
   "source": [
    "print(y)"
   ]
  },
  {
   "cell_type": "code",
   "execution_count": 25,
   "id": "1e4d49c2-684e-40bd-a4c9-3b15e8b9221a",
   "metadata": {},
   "outputs": [],
   "source": [
    "z = \"Vasim Tamboli DS0105EN\""
   ]
  },
  {
   "cell_type": "markdown",
   "id": "87d10864-eae6-4855-9918-ea264897c89d",
   "metadata": {
    "tags": []
   },
   "source": [
    "\n",
    "z = \"Vasim Tamboli DS0105EN\""
   ]
  },
  {
   "cell_type": "code",
   "execution_count": 29,
   "id": "8258b824-8812-44fc-ac16-d647b53a77b3",
   "metadata": {},
   "outputs": [
    {
     "name": "stdout",
     "output_type": "stream",
     "text": [
      "Data Scientist  I am interested in Data Science because I would love to contribute towards affordable and quality healthcare the future Vasim Tamboli DS0105EN\n"
     ]
    }
   ],
   "source": [
    "print(\"%s %s %s\" %(x,y,z))"
   ]
  },
  {
   "cell_type": "code",
   "execution_count": null,
   "id": "b1188014-0760-4627-b8d4-4c74ef926765",
   "metadata": {},
   "outputs": [],
   "source": [
    "a = 100\n",
    "b = 200"
   ]
  },
  {
   "cell_type": "code",
   "execution_count": 4,
   "id": "f8e0f393-dfb6-496e-b904-41d9af372e10",
   "metadata": {},
   "outputs": [],
   "source": [
    "c = a + b"
   ]
  },
  {
   "cell_type": "code",
   "execution_count": 5,
   "id": "0685698b-86f4-46cd-af57-e3b5673be6f1",
   "metadata": {},
   "outputs": [
    {
     "name": "stdout",
     "output_type": "stream",
     "text": [
      "300\n"
     ]
    }
   ],
   "source": [
    "print (c)"
   ]
  },
  {
   "cell_type": "code",
   "execution_count": 6,
   "id": "d3cf5ff5-9c6a-44df-b5b8-4400ffc33815",
   "metadata": {},
   "outputs": [],
   "source": [
    "x = (\"Hello Vasim\")"
   ]
  },
  {
   "cell_type": "code",
   "execution_count": 8,
   "id": "a968f4cb-edeb-4425-a672-61f1341bcfb5",
   "metadata": {},
   "outputs": [
    {
     "name": "stdout",
     "output_type": "stream",
     "text": [
      "Hello Vasim 300\n"
     ]
    }
   ],
   "source": [
    "print (x,end=\" \")\n",
    "print (c)"
   ]
  },
  {
   "cell_type": "code",
   "execution_count": 9,
   "id": "2d701075-b035-4f6c-8844-0fc8c71f3c9b",
   "metadata": {},
   "outputs": [],
   "source": [
    "r = \"Hello\"\n",
    "s = \"Vasim\""
   ]
  },
  {
   "cell_type": "code",
   "execution_count": 14,
   "id": "6be89bd9-1471-40ba-9bca-3252c36cf6e8",
   "metadata": {},
   "outputs": [
    {
     "name": "stdout",
     "output_type": "stream",
     "text": [
      "Hello Vasim\n"
     ]
    }
   ],
   "source": [
    "print(\"%s %s\" %(r,s))"
   ]
  },
  {
   "cell_type": "code",
   "execution_count": 16,
   "id": "2b6f7b4a-7c36-491a-9109-6110e52f845d",
   "metadata": {},
   "outputs": [
    {
     "name": "stdout",
     "output_type": "stream",
     "text": [
      "Hello Vasim\n"
     ]
    }
   ],
   "source": [
    "print(\"{} {}\".format(r,s))"
   ]
  },
  {
   "cell_type": "code",
   "execution_count": null,
   "id": "c54cb4de-5cc5-40a0-8733-c31b6e1ae256",
   "metadata": {},
   "outputs": [],
   "source": []
  }
 ],
 "metadata": {
  "kernelspec": {
   "display_name": "Python",
   "language": "python",
   "name": "conda-env-python-py"
  },
  "language_info": {
   "codemirror_mode": {
    "name": "ipython",
    "version": 3
   },
   "file_extension": ".py",
   "mimetype": "text/x-python",
   "name": "python",
   "nbconvert_exporter": "python",
   "pygments_lexer": "ipython3",
   "version": "3.7.12"
  }
 },
 "nbformat": 4,
 "nbformat_minor": 5
}
